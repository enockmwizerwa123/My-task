{
  "nbformat": 4,
  "nbformat_minor": 0,
  "metadata": {
    "colab": {
      "provenance": [],
      "authorship_tag": "ABX9TyPEE0XIEjFe2zjZO0ZAq2Kj",
      "include_colab_link": true
    },
    "kernelspec": {
      "name": "python3",
      "display_name": "Python 3"
    },
    "language_info": {
      "name": "python"
    }
  },
  "cells": [
    {
      "cell_type": "markdown",
      "metadata": {
        "id": "view-in-github",
        "colab_type": "text"
      },
      "source": [
        "<a href=\"https://colab.research.google.com/github/enockmwizerwa123/My-task/blob/main/Exercise_on_python.ipynb\" target=\"_parent\"><img src=\"https://colab.research.google.com/assets/colab-badge.svg\" alt=\"Open In Colab\"/></a>"
      ]
    },
    {
      "cell_type": "code",
      "source": [],
      "metadata": {
        "id": "PsGwM3nfHMgb"
      },
      "execution_count": null,
      "outputs": []
    },
    {
      "cell_type": "markdown",
      "source": [
        "<h3> <center> Air Fare Prediction"
      ],
      "metadata": {
        "id": "oTw28ZKcKGcK"
      }
    },
    {
      "cell_type": "markdown",
      "source": [
        "# Introduction\n",
        "Welcome to this data analysis notebook on flight fare prediction! In this notebook, we will explore and analyze the \"Flight Fare Prediction\" dataset, which contains valuable information about airline ticket prices. Whether you are a traveler looking to plan your next trip or a data enthusiast interested in predicting flight fares, this dataset offers a fascinating opportunity to gain insights and build predictive models.\n",
        "\n",
        "#Dataset Overview:\n",
        "The \"Flight Fare Prediction\" dataset is a comprehensive collection of flight-related data compiled from various sources. It encompasses a wide range of attributes that influence flight fares, including departure and arrival locations, travel durations, airline carriers, and more. By leveraging this dataset, we can uncover patterns, correlations, and factors affecting flight fares, ultimately enabling us to create a predictive model for estimating ticket prices.\n",
        "\n",
        "#Objective:\n",
        "The primary objective of this analysis is to understand the underlying factors contributing to flight fares and develop a reliable model for predicting fare prices accurately. By examining the dataset, we aim to extract meaningful insights and discover which variables play a significant role in determining the cost of airline tickets.\n",
        "\n",
        "- Notebook Structure: To accomplish our objective, we will follow a systematic\n",
        "  approach, breaking down the analysis into the following key steps:\n",
        "\n",
        "- Data Understanding and Exploration: We will begin by gaining an in-depth\n",
        "  understanding of the dataset's structure, the meaning behind each attribute, and the overall distribution of the data. Exploratory data analysis techniques will be employed to uncover initial insights and detect any notable trends or outliers.\n",
        "\n",
        "# Feature Engineering:\n",
        " Next, we will preprocess and transform the dataset as necessary. This step may involve handling missing values, encoding categorical variables, normalizing data, and creating additional features to enhance the predictive power of our model.\n",
        "\n",
        "# Data Visualization:\n",
        " Visualizations such as charts, graphs, and maps will be utilized to present the data in an intuitive and easily digestible manner. These visual representations will help us grasp the relationships between different variables and gain a holistic view of the dataset.\n",
        "\n",
        "# Model Development:\n",
        " We will train and evaluate several machine learning models to predict flight fares accurately. This step will involve splitting the dataset into training and testing sets, selecting appropriate algorithms, tuning model parameters, and assessing the performance of each model.\n",
        "\n",
        "#Conclusion and Future Work:\n",
        " Finally, we will summarize our findings, discuss the limitations of our analysis, and outline potential avenues for further exploration and improvement.\n"
      ],
      "metadata": {
        "id": "w2R-HR2xKV2o"
      }
    },
    {
      "cell_type": "code",
      "source": [
        "import pandas as pd\n",
        "import numpy as np\n",
        "import seaborn as sns\n",
        "import matplotlib.pyplot as plt\n",
        "import warnings\n",
        "warnings.filterwarnings(\"ignore\")\n",
        "import plotly.express as px\n",
        "%matplotlib inline\n",
        "import matplotlib\n",
        "pd.set_option('display.max_columns', None) #Enable to show max columns in code cells\n",
        "sns.set_style('darkgrid') #set sns plot background\n",
        "matplotlib.rcParams['font.size'] = 14 #set the deafult plot font size for this notebook\n",
        "matplotlib.rcParams['figure.figsize'] = (10, 6) #set the deafult plot size for this notebook\n",
        "matplotlib.rcParams['figure.facecolor'] = '#00000000' #set matplotlib plot background\n",
        "from plotly.offline import init_notebook_mode, iplot\n",
        "init_notebook_mode(connected=True);\n",
        "# pd.set_option('display.float_format', lambda x: '%.3f' % x)"
      ],
      "metadata": {
        "colab": {
          "base_uri": "https://localhost:8080/",
          "height": 17
        },
        "id": "xmcqybP8HMj8",
        "outputId": "5e11fee5-37ae-4e48-e40d-32ff8dc087ef"
      },
      "execution_count": 4,
      "outputs": [
        {
          "output_type": "display_data",
          "data": {
            "text/html": [
              "        <script type=\"text/javascript\">\n",
              "        window.PlotlyConfig = {MathJaxConfig: 'local'};\n",
              "        if (window.MathJax && window.MathJax.Hub && window.MathJax.Hub.Config) {window.MathJax.Hub.Config({SVG: {font: \"STIX-Web\"}});}\n",
              "        if (typeof require !== 'undefined') {\n",
              "        require.undef(\"plotly\");\n",
              "        requirejs.config({\n",
              "            paths: {\n",
              "                'plotly': ['https://cdn.plot.ly/plotly-2.18.2.min']\n",
              "            }\n",
              "        });\n",
              "        require(['plotly'], function(Plotly) {\n",
              "            window._Plotly = Plotly;\n",
              "        });\n",
              "        }\n",
              "        </script>\n",
              "        "
            ]
          },
          "metadata": {}
        }
      ]
    },
    {
      "cell_type": "markdown",
      "source": [
        "# <h2> <center> Import the datasets"
      ],
      "metadata": {
        "id": "VLQoLF34O2zH"
      }
    },
    {
      "cell_type": "code",
      "source": [
        "data_train = pd.read_excel(\"/content/Data_Train.xlsx\")\n",
        "data_test = pd.read_excel(\"/content/Test_set.xlsx\")\n",
        "data_sample = pd.read_excel(\"/content/Sample_submission.xlsx\")"
      ],
      "metadata": {
        "id": "99PBEDfbHMnT"
      },
      "execution_count": 5,
      "outputs": []
    },
    {
      "cell_type": "markdown",
      "source": [
        "#<center> The data Overview"
      ],
      "metadata": {
        "id": "Euw8vybGRoyx"
      }
    },
    {
      "cell_type": "code",
      "source": [
        "data_train.info(), data_test.info()"
      ],
      "metadata": {
        "colab": {
          "base_uri": "https://localhost:8080/"
        },
        "id": "5f7GIYlcHMqk",
        "outputId": "fd5740cf-1405-4890-f2ee-c5f147383a8f"
      },
      "execution_count": 6,
      "outputs": [
        {
          "output_type": "stream",
          "name": "stdout",
          "text": [
            "<class 'pandas.core.frame.DataFrame'>\n",
            "RangeIndex: 10683 entries, 0 to 10682\n",
            "Data columns (total 11 columns):\n",
            " #   Column           Non-Null Count  Dtype \n",
            "---  ------           --------------  ----- \n",
            " 0   Airline          10683 non-null  object\n",
            " 1   Date_of_Journey  10683 non-null  object\n",
            " 2   Source           10683 non-null  object\n",
            " 3   Destination      10683 non-null  object\n",
            " 4   Route            10682 non-null  object\n",
            " 5   Dep_Time         10683 non-null  object\n",
            " 6   Arrival_Time     10683 non-null  object\n",
            " 7   Duration         10683 non-null  object\n",
            " 8   Total_Stops      10682 non-null  object\n",
            " 9   Additional_Info  10683 non-null  object\n",
            " 10  Price            10683 non-null  int64 \n",
            "dtypes: int64(1), object(10)\n",
            "memory usage: 918.2+ KB\n",
            "<class 'pandas.core.frame.DataFrame'>\n",
            "RangeIndex: 2671 entries, 0 to 2670\n",
            "Data columns (total 10 columns):\n",
            " #   Column           Non-Null Count  Dtype \n",
            "---  ------           --------------  ----- \n",
            " 0   Airline          2671 non-null   object\n",
            " 1   Date_of_Journey  2671 non-null   object\n",
            " 2   Source           2671 non-null   object\n",
            " 3   Destination      2671 non-null   object\n",
            " 4   Route            2671 non-null   object\n",
            " 5   Dep_Time         2671 non-null   object\n",
            " 6   Arrival_Time     2671 non-null   object\n",
            " 7   Duration         2671 non-null   object\n",
            " 8   Total_Stops      2671 non-null   object\n",
            " 9   Additional_Info  2671 non-null   object\n",
            "dtypes: object(10)\n",
            "memory usage: 208.8+ KB\n"
          ]
        },
        {
          "output_type": "execute_result",
          "data": {
            "text/plain": [
              "(None, None)"
            ]
          },
          "metadata": {},
          "execution_count": 6
        }
      ]
    },
    {
      "cell_type": "code",
      "source": [
        "data_train.isna().sum(),data_test.isna().sum()"
      ],
      "metadata": {
        "colab": {
          "base_uri": "https://localhost:8080/"
        },
        "id": "SkdnyTPcHMtV",
        "outputId": "2d9e6f8d-776a-43c1-bd23-759d0549202b"
      },
      "execution_count": 7,
      "outputs": [
        {
          "output_type": "execute_result",
          "data": {
            "text/plain": [
              "(Airline            0\n",
              " Date_of_Journey    0\n",
              " Source             0\n",
              " Destination        0\n",
              " Route              1\n",
              " Dep_Time           0\n",
              " Arrival_Time       0\n",
              " Duration           0\n",
              " Total_Stops        1\n",
              " Additional_Info    0\n",
              " Price              0\n",
              " dtype: int64,\n",
              " Airline            0\n",
              " Date_of_Journey    0\n",
              " Source             0\n",
              " Destination        0\n",
              " Route              0\n",
              " Dep_Time           0\n",
              " Arrival_Time       0\n",
              " Duration           0\n",
              " Total_Stops        0\n",
              " Additional_Info    0\n",
              " dtype: int64)"
            ]
          },
          "metadata": {},
          "execution_count": 7
        }
      ]
    },
    {
      "cell_type": "code",
      "source": [
        "data_train.describe(), data_test.describe()"
      ],
      "metadata": {
        "colab": {
          "base_uri": "https://localhost:8080/"
        },
        "id": "zmp6d9DIHMw7",
        "outputId": "34a9e54d-47f7-4c47-84b5-5ad7f9f4c637"
      },
      "execution_count": 8,
      "outputs": [
        {
          "output_type": "execute_result",
          "data": {
            "text/plain": [
              "(              Price\n",
              " count  10683.000000\n",
              " mean    9087.064121\n",
              " std     4611.359167\n",
              " min     1759.000000\n",
              " 25%     5277.000000\n",
              " 50%     8372.000000\n",
              " 75%    12373.000000\n",
              " max    79512.000000,\n",
              "             Airline Date_of_Journey Source Destination            Route  \\\n",
              " count          2671            2671   2671        2671             2671   \n",
              " unique           11              44      5           6              100   \n",
              " top     Jet Airways       9/05/2019  Delhi      Cochin  DEL → BOM → COK   \n",
              " freq            897             144   1145        1145              624   \n",
              " \n",
              "        Dep_Time Arrival_Time Duration Total_Stops Additional_Info  \n",
              " count      2671         2671     2671        2671            2671  \n",
              " unique      199          704      320           5               6  \n",
              " top       10:00        19:00   2h 50m      1 stop         No info  \n",
              " freq         62          113      122        1431            2148  )"
            ]
          },
          "metadata": {},
          "execution_count": 8
        }
      ]
    },
    {
      "cell_type": "markdown",
      "source": [
        "<h1> Data cleaning and Feature Engineering"
      ],
      "metadata": {
        "id": "R5z7ZPemTLWY"
      }
    },
    {
      "cell_type": "code",
      "source": [],
      "metadata": {
        "id": "yOC7mJlQHMzw"
      },
      "execution_count": null,
      "outputs": []
    },
    {
      "cell_type": "code",
      "source": [
        "data_train.Total_Stops.value_counts(),data_test.Total_Stops.value_counts()"
      ],
      "metadata": {
        "colab": {
          "base_uri": "https://localhost:8080/"
        },
        "id": "CEMU677FHM2R",
        "outputId": "927f2116-b88f-4421-9548-a6b19c7311d3"
      },
      "execution_count": 9,
      "outputs": [
        {
          "output_type": "execute_result",
          "data": {
            "text/plain": [
              "(1 stop      5625\n",
              " non-stop    3491\n",
              " 2 stops     1520\n",
              " 3 stops       45\n",
              " 4 stops        1\n",
              " Name: Total_Stops, dtype: int64,\n",
              " 1 stop      1431\n",
              " non-stop     849\n",
              " 2 stops      379\n",
              " 3 stops       11\n",
              " 4 stops        1\n",
              " Name: Total_Stops, dtype: int64)"
            ]
          },
          "metadata": {},
          "execution_count": 9
        }
      ]
    },
    {
      "cell_type": "code",
      "source": [
        "data_train['Total_Stops']=data_train['Total_Stops'].replace(['4 stops'], '3 stops')\n",
        "data_test['Total_Stops']=data_test['Total_Stops'].replace(['4 stops'], '3 stops')"
      ],
      "metadata": {
        "id": "9TpCTHhQHM4d"
      },
      "execution_count": 10,
      "outputs": []
    },
    {
      "cell_type": "code",
      "source": [
        "# data_train.groupby(by='Additional_Info')['Price'].describe().sort_values(by='mean',ascending=False)\n",
        "data_train['Additional_Info'].value_counts(),data_test['Additional_Info'].value_counts()"
      ],
      "metadata": {
        "colab": {
          "base_uri": "https://localhost:8080/"
        },
        "id": "y1Hv_w7bHM65",
        "outputId": "41e1134c-6a6d-4a05-94e3-1cbc1a0bd69a"
      },
      "execution_count": 11,
      "outputs": [
        {
          "output_type": "execute_result",
          "data": {
            "text/plain": [
              "(No info                         8345\n",
              " In-flight meal not included     1982\n",
              " No check-in baggage included     320\n",
              " 1 Long layover                    19\n",
              " Change airports                    7\n",
              " Business class                     4\n",
              " No Info                            3\n",
              " 1 Short layover                    1\n",
              " Red-eye flight                     1\n",
              " 2 Long layover                     1\n",
              " Name: Additional_Info, dtype: int64,\n",
              " No info                         2148\n",
              " In-flight meal not included      444\n",
              " No check-in baggage included      76\n",
              " 1 Long layover                     1\n",
              " Business class                     1\n",
              " Change airports                    1\n",
              " Name: Additional_Info, dtype: int64)"
            ]
          },
          "metadata": {},
          "execution_count": 11
        }
      ]
    },
    {
      "cell_type": "code",
      "source": [
        "#Replacing Repeated no info in the dataset\n",
        "data_train['Additional_Info']=data_train['Additional_Info'].replace(['No Info'], 'No info')"
      ],
      "metadata": {
        "id": "ddcGAtMBWEBk"
      },
      "execution_count": 12,
      "outputs": []
    },
    {
      "cell_type": "markdown",
      "source": [
        "# Extractting date parts as a part of feature engineering"
      ],
      "metadata": {
        "id": "8IuQmCDJWksH"
      }
    },
    {
      "cell_type": "code",
      "source": [
        "def split_date(df): #A helper function that takes a df and finds the Date column and extract the necessary info.\n",
        "    df['Date_of_Journey'] = pd.to_datetime(df['Date_of_Journey'],format=\"%d/%m/%Y\")\n",
        "    df['Month'] = df.Date_of_Journey.dt.month\n",
        "    df['Day'] = df.Date_of_Journey.dt.day\n",
        "    df['WeekOfYear'] = df.Date_of_Journey.dt.isocalendar().week\n",
        "    df['WeekOfYear'] = df['WeekOfYear'].astype(int)  #since we have day of the week already let's extrac the rest"
      ],
      "metadata": {
        "id": "JlwDrXYUWD-1"
      },
      "execution_count": 13,
      "outputs": []
    },
    {
      "cell_type": "code",
      "source": [
        "split_date(data_train)\n",
        "split_date(data_test)"
      ],
      "metadata": {
        "id": "z9KmW49kWD8G"
      },
      "execution_count": 14,
      "outputs": []
    },
    {
      "cell_type": "code",
      "source": [
        "data_train['Arrival_Time']=data_train['Arrival_Time'].replace(['01:10 22 Mar'], '01:10 25 Mar')"
      ],
      "metadata": {
        "id": "9aT7CNPoWD5V"
      },
      "execution_count": 15,
      "outputs": []
    },
    {
      "cell_type": "code",
      "source": [
        "def next_day(df):\n",
        "    for i in df.index:\n",
        "        if len(df.loc[i, 'Arrival_Time']) <= 5:\n",
        "            df.loc[i, 'Next_Day'] = 0\n",
        "        else:\n",
        "            df.loc[i, 'Next_Day'] = 1"
      ],
      "metadata": {
        "id": "zqP9P__HWD2h"
      },
      "execution_count": 16,
      "outputs": []
    },
    {
      "cell_type": "code",
      "source": [
        "next_day(data_train)\n",
        "next_day(data_test)"
      ],
      "metadata": {
        "id": "JBxQgTDUWDzl"
      },
      "execution_count": 17,
      "outputs": []
    },
    {
      "cell_type": "code",
      "source": [
        "def convert_time_columns(df):\n",
        "    # Convert 'Dep_Time' column to time format\n",
        "    df['Dep_Time'] = pd.to_datetime(df['Dep_Time'], format='%H:%M').dt.hour\n",
        "    df['Dep_Time'] = df['Dep_Time'].astype(int)\n",
        "\n",
        "    # Extract time from 'Arrival_Time' column and convert to hours and minutes\n",
        "    for i in df.index:\n",
        "        if len(df.loc[i, 'Arrival_Time']) <= 5:\n",
        "            df.loc[i, 'Arrival_Time'] = pd.to_datetime(df.loc[i, 'Arrival_Time'], format='%H:%M').time().hour\n",
        "        else:\n",
        "            df.loc[i, 'Arrival_Time'] = df.loc[i, 'Arrival_Time'][:5]\n",
        "            df.loc[i, 'Arrival_Time'] = pd.to_datetime(df.loc[i, 'Arrival_Time'], format='%H:%M').time().hour\n",
        "    df['Arrival_Time'] = df['Arrival_Time'].astype(int)"
      ],
      "metadata": {
        "id": "YkzvkCSEWDw4"
      },
      "execution_count": 18,
      "outputs": []
    },
    {
      "cell_type": "code",
      "source": [
        "convert_time_columns(data_train)\n",
        "convert_time_columns(data_test)"
      ],
      "metadata": {
        "id": "pNxFmWCvWDvJ"
      },
      "execution_count": 19,
      "outputs": []
    },
    {
      "cell_type": "markdown",
      "source": [
        "#Calculating flight time in minutes"
      ],
      "metadata": {
        "id": "gMi6Vp5Xb3eV"
      }
    },
    {
      "cell_type": "code",
      "source": [
        "def calculate_total_minutes(df):\n",
        "    for i in df.index:\n",
        "        duration = df.loc[i, 'Duration']\n",
        "        hours, minutes = 0, 0\n",
        "\n",
        "        if 'h' in duration:\n",
        "            hours = int(duration.split('h')[0])\n",
        "\n",
        "        if 'm' in duration:\n",
        "            minutes = int(duration.split('m')[0].split()[-1])\n",
        "\n",
        "        total_minutes = hours * 60 + minutes\n",
        "        df.loc[i, 'Duration'] = total_minutes\n",
        "\n",
        "    df['Duration'] = df['Duration'].astype(int)"
      ],
      "metadata": {
        "id": "tz3e3CazWDrO"
      },
      "execution_count": 20,
      "outputs": []
    },
    {
      "cell_type": "code",
      "source": [
        "calculate_total_minutes(data_train)\n",
        "calculate_total_minutes(data_test)"
      ],
      "metadata": {
        "id": "7CGAeNwiWDno"
      },
      "execution_count": 21,
      "outputs": []
    },
    {
      "cell_type": "code",
      "source": [
        "def red_eye_flight(df):\n",
        "    mask = ((df['Arrival_Time'].between(0, 7) | df['Dep_Time'].between(22, 23)) & (df['Duration'] <= 600))\n",
        "    df.loc[mask, 'Additional_Info'] = df.loc[mask, 'Additional_Info'].replace('No info', 'Red-eye flight')"
      ],
      "metadata": {
        "id": "RBaUdpiVWDkf"
      },
      "execution_count": 22,
      "outputs": []
    },
    {
      "cell_type": "code",
      "source": [
        "red_eye_flight(data_train)\n",
        "red_eye_flight(data_test)"
      ],
      "metadata": {
        "id": "zck3mBGIWDhk"
      },
      "execution_count": 23,
      "outputs": []
    },
    {
      "cell_type": "markdown",
      "source": [
        "#Grouping unpopular categories into 'Other'"
      ],
      "metadata": {
        "id": "usRTFvNJdAeM"
      }
    },
    {
      "cell_type": "code",
      "source": [
        "def group_additional_info(df):\n",
        "    specific_categories = [\n",
        "        'In-flight meal not included',\n",
        "        'Red-eye flight',\n",
        "        'Business class',\n",
        "        'No check-in baggage included',\n",
        "        'No info'\n",
        "    ]\n",
        "\n",
        "    df['Additional_Info'] = df['Additional_Info'].apply(lambda x: x if x in specific_categories else 'Other')"
      ],
      "metadata": {
        "id": "P5ebChwsWDex"
      },
      "execution_count": 24,
      "outputs": []
    },
    {
      "cell_type": "code",
      "source": [
        "group_additional_info(data_train)\n",
        "group_additional_info(data_test)"
      ],
      "metadata": {
        "id": "p-raX-YcWDb8"
      },
      "execution_count": 25,
      "outputs": []
    },
    {
      "cell_type": "code",
      "source": [
        "data_train['Additional_Info'].value_counts()"
      ],
      "metadata": {
        "colab": {
          "base_uri": "https://localhost:8080/"
        },
        "id": "h2ceRffTWDYv",
        "outputId": "fd3ec65d-bab6-453b-e2b2-39bcbdb24d69"
      },
      "execution_count": 26,
      "outputs": [
        {
          "output_type": "execute_result",
          "data": {
            "text/plain": [
              "No info                         7257\n",
              "In-flight meal not included     1982\n",
              "Red-eye flight                  1092\n",
              "No check-in baggage included     320\n",
              "Other                             28\n",
              "Business class                     4\n",
              "Name: Additional_Info, dtype: int64"
            ]
          },
          "metadata": {},
          "execution_count": 26
        }
      ]
    },
    {
      "cell_type": "code",
      "source": [
        "data_train.groupby(by='Additional_Info')['Total_Stops'].value_counts()"
      ],
      "metadata": {
        "colab": {
          "base_uri": "https://localhost:8080/"
        },
        "id": "D_ez-5_pWDVY",
        "outputId": "e07a4df5-b6fc-44f2-88ef-a6dfcc210fba"
      },
      "execution_count": 27,
      "outputs": [
        {
          "output_type": "execute_result",
          "data": {
            "text/plain": [
              "Additional_Info               Total_Stops\n",
              "Business class                1 stop            4\n",
              "In-flight meal not included   1 stop         1432\n",
              "                              non-stop        301\n",
              "                              2 stops         249\n",
              "No check-in baggage included  non-stop        304\n",
              "                              1 stop           16\n",
              "No info                       1 stop         3734\n",
              "                              non-stop       2249\n",
              "                              2 stops        1228\n",
              "                              3 stops          45\n",
              "Other                         1 stop           21\n",
              "                              2 stops           6\n",
              "                              3 stops           1\n",
              "Red-eye flight                non-stop        637\n",
              "                              1 stop          418\n",
              "                              2 stops          37\n",
              "Name: Total_Stops, dtype: int64"
            ]
          },
          "metadata": {},
          "execution_count": 27
        }
      ]
    },
    {
      "cell_type": "markdown",
      "source": [
        "#Fixing Airline issues"
      ],
      "metadata": {
        "id": "XeP98Seyhy8z"
      }
    },
    {
      "cell_type": "code",
      "source": [
        "def replace_airline_values(df):\n",
        "    df['Airline'] = df['Airline'].replace(['Vistara Premium economy'], 'Vistara')\n",
        "    df['Airline'] = df['Airline'].replace(['Multiple carriers Premium economy'], 'Multiple carriers')\n",
        "    df['Airline'] = df['Airline'].replace(['Trujet'], 'Multiple carriers')"
      ],
      "metadata": {
        "id": "m-4tkZC-WDSc"
      },
      "execution_count": 28,
      "outputs": []
    },
    {
      "cell_type": "code",
      "source": [
        "replace_airline_values(data_train)\n",
        "replace_airline_values(data_test)"
      ],
      "metadata": {
        "id": "gAiEwE52WDPd"
      },
      "execution_count": 29,
      "outputs": []
    },
    {
      "cell_type": "markdown",
      "source": [
        "#Filling NA Values"
      ],
      "metadata": {
        "id": "1dbmAy_JiuB5"
      }
    },
    {
      "cell_type": "code",
      "source": [
        "data_train['Route']=data_train['Route'].fillna('DEL → MAA → COK')\n",
        "data_train['Total_Stops']=data_train['Total_Stops'].fillna('1 stop')"
      ],
      "metadata": {
        "id": "VcblKylDWDKn"
      },
      "execution_count": 30,
      "outputs": []
    },
    {
      "cell_type": "code",
      "source": [
        "def group_routes(df):\n",
        "    specific_categories = [\n",
        "        'DEL → BOM → COK',\n",
        "        'BLR → DEL',\n",
        "        'CCU → BOM → BLR',\n",
        "        'CCU → BLR',\n",
        "        'BOM → HYD',\n",
        "        'CCU → DEL → BLR',\n",
        "        'BLR → BOM → DEL',\n",
        "        'MAA → CCU',\n",
        "        'DEL → HYD → COK',\n",
        "        'DEL → JAI → BOM → COK',\n",
        "        'DEL → BLR → COK',\n",
        "        'DEL → COK',\n",
        "        'DEL → AMD → BOM → COK',\n",
        "        'DEL → MAA → COK',\n",
        "        'DEL → IDR → BOM → COK',\n",
        "        'DEL → HYD → MAA → COK'\n",
        "    ]\n",
        "\n",
        "    df['Route'] = df['Route'].apply(lambda x: x if x in specific_categories else 'Others')"
      ],
      "metadata": {
        "id": "WGkTy_wTWDHi"
      },
      "execution_count": 31,
      "outputs": []
    },
    {
      "cell_type": "code",
      "source": [
        "group_routes(data_train)\n",
        "group_routes(data_test)"
      ],
      "metadata": {
        "id": "Fw4JGzlfWDCF"
      },
      "execution_count": 32,
      "outputs": []
    },
    {
      "cell_type": "markdown",
      "source": [
        "#Some best practises\n",
        "\n",
        "If you have a categorical column with categories that have only a few instances, encoding those categories as-is might lead to a lower accuracy because the model may struggle to generalize well with limited data. In such cases, you can consider a few alternative approaches to handle the encoding of this column:\n",
        "\n",
        "1. Group infrequent categories: You can group the infrequent categories into a\n",
        "single category to increase their representation. For example, you can replace all categories with fewer than a certain threshold of instances with a new category called \"Other.\" This way, you preserve some information about these infrequent categories while reducing the number of unique categories.\n",
        "\n",
        "2. Frequency encoding: Instead of using one-hot encoding or label encoding, you can encode the categories based on their frequency in the dataset. Replace each category with the percentage of occurrences in the dataset. This way, the encoded value captures the relative representation of each category.\n",
        "\n",
        "3. Target encoding: Target encoding, also known as mean encoding, replaces each category with the mean (or other aggregation) of the target variable for that category. This method leverages the target variable to encode the categories and can provide useful information if there is a relationship between the category and the target. However, be cautious to avoid overfitting or data leakage when using target encoding.\n",
        "\n",
        "4. Combine categories based on domain knowledge: If you have domain knowledge or insights about the categories, you can merge similar or related categories into broader groups. This can help consolidate the information and improve the representation of infrequent categories.\n",
        "\n",
        "It is essential to evaluate the impact of different encoding strategies on your specific dataset and model performance. Consider using cross-validation or other evaluation techniques to assess the effectiveness of each approach. Additionally, the choice of encoding method may depend on the nature of the data, the specific machine learning algorithm you are using, and the overall context of your problem."
      ],
      "metadata": {
        "id": "Ry5nJL0-k-ll"
      }
    },
    {
      "cell_type": "markdown",
      "source": [
        "#Pre-Processing\n",
        "1. Frequency Encoding due to large categorical columns"
      ],
      "metadata": {
        "id": "GOng9iTIoJwR"
      }
    },
    {
      "cell_type": "code",
      "source": [
        "def frequency_encode(df, column):\n",
        "    frequency_map = df[column].value_counts(normalize=True).to_dict()\n",
        "    df[column + '_freq_encoded'] = df[column].map(frequency_map)"
      ],
      "metadata": {
        "id": "OSv5VRpRWC_a"
      },
      "execution_count": 33,
      "outputs": []
    },
    {
      "cell_type": "code",
      "source": [
        "frequency_encode(data_train,'Route')\n",
        "#frequency_encode(train,'Source')\n",
        "#frequency_encode(train,'Destination')\n",
        "\n",
        "frequency_encode(data_test,'Route')\n",
        "#frequency_encode(test,'Source')\n",
        "#frequency_encode(test,'Destination')"
      ],
      "metadata": {
        "id": "RDPvGIlLWC8k"
      },
      "execution_count": 34,
      "outputs": []
    },
    {
      "cell_type": "markdown",
      "source": [
        "The frequency_encode function takes a DataFrame (df) and a column name (column) as inputs and performs the following steps:\n",
        "\n",
        "1. It calculates the frequency of each unique value in the specified column using the value_counts(normalize=True) method. Setting normalize=True ensures that the frequencies are relative proportions (between 0 and 1) rather than absolute counts.\n",
        "\n",
        "2. The resulting frequency distribution is converted to a dictionary using the to_dict() method.\n",
        "\n",
        "3. Using the map function, the original column values are replaced with their corresponding frequency values based on the frequency map.\n",
        "\n",
        "4. A new column is added to the DataFrame, suffixed with '_freq_encoded', to store the frequency-encoded values.\n",
        "\n",
        "By applying this function to a specific column in the DataFrame, you can create a new column containing the frequency-encoded values. Frequency encoding is useful when dealing with large categorical columns, as it captures the relative importance or prevalence of each category based on their frequencies.\n",
        "\n",
        "Note: Make sure to apply this function separately for each categorical column you want to frequency encode."
      ],
      "metadata": {
        "id": "djoFDOSLoyr3"
      }
    },
    {
      "cell_type": "markdown",
      "source": [
        "# Selectinng inputs columns for modelling"
      ],
      "metadata": {
        "id": "c-S5vuCkpYmx"
      }
    },
    {
      "cell_type": "code",
      "source": [
        "data_train.columns"
      ],
      "metadata": {
        "colab": {
          "base_uri": "https://localhost:8080/"
        },
        "id": "boTOOHmCWC51",
        "outputId": "88d2fbe3-a4ff-4a90-a64c-367f3acea9bb"
      },
      "execution_count": 35,
      "outputs": [
        {
          "output_type": "execute_result",
          "data": {
            "text/plain": [
              "Index(['Airline', 'Date_of_Journey', 'Source', 'Destination', 'Route',\n",
              "       'Dep_Time', 'Arrival_Time', 'Duration', 'Total_Stops',\n",
              "       'Additional_Info', 'Price', 'Month', 'Day', 'WeekOfYear', 'Next_Day',\n",
              "       'Route_freq_encoded'],\n",
              "      dtype='object')"
            ]
          },
          "metadata": {},
          "execution_count": 35
        }
      ]
    },
    {
      "cell_type": "code",
      "source": [
        "\"\"\"input_cols=['Airline',\n",
        "       'Dep_Time', 'Arrival_Time', 'Duration', 'Total_Stops',\n",
        "       'Additional_Info', 'Month', 'Day', 'WeekOfYear', 'Next_Day',\n",
        "       'Route_freq_encoded', 'Source_freq_encoded',\n",
        "       'Destination_freq_encoded']\"\"\"\n",
        "\n",
        "input_cols=['Airline', 'Source', 'Destination', 'Route',\n",
        "       'Dep_Time', 'Arrival_Time', 'Duration', 'Total_Stops',\n",
        "       'Additional_Info', 'Month', 'Day', 'WeekOfYear', 'Next_Day',\n",
        "       'Route_freq_encoded']\n",
        "\n",
        "target_cols='Price'"
      ],
      "metadata": {
        "id": "eKsTO7BYph_T"
      },
      "execution_count": 36,
      "outputs": []
    },
    {
      "cell_type": "code",
      "source": [
        "# creating new dataframes as inputs and targets.\n",
        "inputs=data_train[input_cols]\n",
        "target=data_train[target_cols]\n",
        "test_inputs=data_test[input_cols]\n",
        "# test_target=submission[target_cols]"
      ],
      "metadata": {
        "id": "nXbpAG5_WC3m"
      },
      "execution_count": 38,
      "outputs": []
    },
    {
      "cell_type": "markdown",
      "source": [
        "Selecting Numeric and Categorical Columns"
      ],
      "metadata": {
        "id": "6rWA2k-uqKW4"
      }
    },
    {
      "cell_type": "code",
      "source": [
        "\"\"\"numeric_cols=[\n",
        "       'Dep_Time', 'Arrival_Time', 'Duration', 'Month', 'Day', 'WeekOfYear', 'Next_Day',\n",
        "       'Route_freq_encoded', 'Source_freq_encoded',\n",
        "       'Destination_freq_encoded']\"\"\"\n",
        "\n",
        "numeric_cols=[\n",
        "       'Dep_Time', 'Arrival_Time', 'Duration', 'Month', 'Day', 'WeekOfYear', 'Next_Day',\n",
        "       'Route_freq_encoded']\n",
        "\n",
        "categorical_cols=['Airline','Total_Stops','Additional_Info','Source','Destination']"
      ],
      "metadata": {
        "id": "kop6mIx1WC0g"
      },
      "execution_count": 39,
      "outputs": []
    },
    {
      "cell_type": "markdown",
      "source": [
        "Encoding categorical columns"
      ],
      "metadata": {
        "id": "1dxFy4omqaJq"
      }
    },
    {
      "cell_type": "code",
      "source": [
        "from sklearn.preprocessing import OneHotEncoder\n",
        "\n",
        "encoder = OneHotEncoder(sparse_output=False, handle_unknown='ignore').fit(inputs[categorical_cols]) #This will handle unknown categories as separate one while Encoding values"
      ],
      "metadata": {
        "id": "VPUxIwICWCxV"
      },
      "execution_count": 40,
      "outputs": []
    },
    {
      "cell_type": "code",
      "source": [
        "encoded_cols = list(encoder.get_feature_names_out(categorical_cols))\n",
        "\n",
        "inputs[encoded_cols] = encoder.transform(inputs[categorical_cols])\n",
        "test_inputs[encoded_cols] = encoder.transform(test_inputs[categorical_cols])"
      ],
      "metadata": {
        "id": "NhzD2keQqqh4"
      },
      "execution_count": 41,
      "outputs": []
    },
    {
      "cell_type": "code",
      "source": [
        "inputs"
      ],
      "metadata": {
        "colab": {
          "base_uri": "https://localhost:8080/",
          "height": 713
        },
        "id": "F4cA7pnwqqe2",
        "outputId": "3b91e3c8-fc31-4a70-f5bc-694292356a06"
      },
      "execution_count": 42,
      "outputs": [
        {
          "output_type": "execute_result",
          "data": {
            "text/plain": [
              "           Airline    Source Destination      Route  Dep_Time  Arrival_Time  \\\n",
              "0           IndiGo  Banglore   New Delhi  BLR → DEL        22             1   \n",
              "1        Air India   Kolkata    Banglore     Others         5            13   \n",
              "2      Jet Airways     Delhi      Cochin     Others         9             4   \n",
              "3           IndiGo   Kolkata    Banglore     Others        18            23   \n",
              "4           IndiGo  Banglore   New Delhi     Others        16            21   \n",
              "...            ...       ...         ...        ...       ...           ...   \n",
              "10678     Air Asia   Kolkata    Banglore  CCU → BLR        19            22   \n",
              "10679    Air India   Kolkata    Banglore  CCU → BLR        20            23   \n",
              "10680  Jet Airways  Banglore       Delhi  BLR → DEL         8            11   \n",
              "10681      Vistara  Banglore   New Delhi  BLR → DEL        11            14   \n",
              "10682    Air India     Delhi      Cochin     Others        10            19   \n",
              "\n",
              "       Duration Total_Stops Additional_Info  Month  Day  WeekOfYear  Next_Day  \\\n",
              "0           170    non-stop  Red-eye flight      3   24          12       1.0   \n",
              "1           445     2 stops         No info      5    1          18       0.0   \n",
              "2          1140     2 stops         No info      6    9          23       1.0   \n",
              "3           325      1 stop         No info      5   12          19       0.0   \n",
              "4           285      1 stop         No info      3    1           9       0.0   \n",
              "...         ...         ...             ...    ...  ...         ...       ...   \n",
              "10678       150    non-stop         No info      4    9          15       0.0   \n",
              "10679       155    non-stop         No info      4   27          17       0.0   \n",
              "10680       180    non-stop         No info      4   27          17       0.0   \n",
              "10681       160    non-stop         No info      3    1           9       0.0   \n",
              "10682       500     2 stops         No info      5    9          19       0.0   \n",
              "\n",
              "       Route_freq_encoded  Airline_Air Asia  Airline_Air India  Airline_GoAir  \\\n",
              "0                0.145278               0.0                0.0            0.0   \n",
              "1                0.143967               0.0                1.0            0.0   \n",
              "2                0.143967               0.0                0.0            0.0   \n",
              "3                0.143967               0.0                0.0            0.0   \n",
              "4                0.143967               0.0                0.0            0.0   \n",
              "...                   ...               ...                ...            ...   \n",
              "10678            0.067771               1.0                0.0            0.0   \n",
              "10679            0.067771               0.0                1.0            0.0   \n",
              "10680            0.145278               0.0                0.0            0.0   \n",
              "10681            0.145278               0.0                0.0            0.0   \n",
              "10682            0.143967               0.0                1.0            0.0   \n",
              "\n",
              "       Airline_IndiGo  Airline_Jet Airways  Airline_Jet Airways Business  \\\n",
              "0                 1.0                  0.0                           0.0   \n",
              "1                 0.0                  0.0                           0.0   \n",
              "2                 0.0                  1.0                           0.0   \n",
              "3                 1.0                  0.0                           0.0   \n",
              "4                 1.0                  0.0                           0.0   \n",
              "...               ...                  ...                           ...   \n",
              "10678             0.0                  0.0                           0.0   \n",
              "10679             0.0                  0.0                           0.0   \n",
              "10680             0.0                  1.0                           0.0   \n",
              "10681             0.0                  0.0                           0.0   \n",
              "10682             0.0                  0.0                           0.0   \n",
              "\n",
              "       Airline_Multiple carriers  Airline_SpiceJet  Airline_Vistara  \\\n",
              "0                            0.0               0.0              0.0   \n",
              "1                            0.0               0.0              0.0   \n",
              "2                            0.0               0.0              0.0   \n",
              "3                            0.0               0.0              0.0   \n",
              "4                            0.0               0.0              0.0   \n",
              "...                          ...               ...              ...   \n",
              "10678                        0.0               0.0              0.0   \n",
              "10679                        0.0               0.0              0.0   \n",
              "10680                        0.0               0.0              0.0   \n",
              "10681                        0.0               0.0              1.0   \n",
              "10682                        0.0               0.0              0.0   \n",
              "\n",
              "       Total_Stops_1 stop  Total_Stops_2 stops  Total_Stops_3 stops  \\\n",
              "0                     0.0                  0.0                  0.0   \n",
              "1                     0.0                  1.0                  0.0   \n",
              "2                     0.0                  1.0                  0.0   \n",
              "3                     1.0                  0.0                  0.0   \n",
              "4                     1.0                  0.0                  0.0   \n",
              "...                   ...                  ...                  ...   \n",
              "10678                 0.0                  0.0                  0.0   \n",
              "10679                 0.0                  0.0                  0.0   \n",
              "10680                 0.0                  0.0                  0.0   \n",
              "10681                 0.0                  0.0                  0.0   \n",
              "10682                 0.0                  1.0                  0.0   \n",
              "\n",
              "       Total_Stops_non-stop  Additional_Info_Business class  \\\n",
              "0                       1.0                             0.0   \n",
              "1                       0.0                             0.0   \n",
              "2                       0.0                             0.0   \n",
              "3                       0.0                             0.0   \n",
              "4                       0.0                             0.0   \n",
              "...                     ...                             ...   \n",
              "10678                   1.0                             0.0   \n",
              "10679                   1.0                             0.0   \n",
              "10680                   1.0                             0.0   \n",
              "10681                   1.0                             0.0   \n",
              "10682                   0.0                             0.0   \n",
              "\n",
              "       Additional_Info_In-flight meal not included  \\\n",
              "0                                              0.0   \n",
              "1                                              0.0   \n",
              "2                                              0.0   \n",
              "3                                              0.0   \n",
              "4                                              0.0   \n",
              "...                                            ...   \n",
              "10678                                          0.0   \n",
              "10679                                          0.0   \n",
              "10680                                          0.0   \n",
              "10681                                          0.0   \n",
              "10682                                          0.0   \n",
              "\n",
              "       Additional_Info_No check-in baggage included  Additional_Info_No info  \\\n",
              "0                                               0.0                      0.0   \n",
              "1                                               0.0                      1.0   \n",
              "2                                               0.0                      1.0   \n",
              "3                                               0.0                      1.0   \n",
              "4                                               0.0                      1.0   \n",
              "...                                             ...                      ...   \n",
              "10678                                           0.0                      1.0   \n",
              "10679                                           0.0                      1.0   \n",
              "10680                                           0.0                      1.0   \n",
              "10681                                           0.0                      1.0   \n",
              "10682                                           0.0                      1.0   \n",
              "\n",
              "       Additional_Info_Other  Additional_Info_Red-eye flight  Source_Banglore  \\\n",
              "0                        0.0                             1.0              1.0   \n",
              "1                        0.0                             0.0              0.0   \n",
              "2                        0.0                             0.0              0.0   \n",
              "3                        0.0                             0.0              0.0   \n",
              "4                        0.0                             0.0              1.0   \n",
              "...                      ...                             ...              ...   \n",
              "10678                    0.0                             0.0              0.0   \n",
              "10679                    0.0                             0.0              0.0   \n",
              "10680                    0.0                             0.0              1.0   \n",
              "10681                    0.0                             0.0              1.0   \n",
              "10682                    0.0                             0.0              0.0   \n",
              "\n",
              "       Source_Chennai  Source_Delhi  Source_Kolkata  Source_Mumbai  \\\n",
              "0                 0.0           0.0             0.0            0.0   \n",
              "1                 0.0           0.0             1.0            0.0   \n",
              "2                 0.0           1.0             0.0            0.0   \n",
              "3                 0.0           0.0             1.0            0.0   \n",
              "4                 0.0           0.0             0.0            0.0   \n",
              "...               ...           ...             ...            ...   \n",
              "10678             0.0           0.0             1.0            0.0   \n",
              "10679             0.0           0.0             1.0            0.0   \n",
              "10680             0.0           0.0             0.0            0.0   \n",
              "10681             0.0           0.0             0.0            0.0   \n",
              "10682             0.0           1.0             0.0            0.0   \n",
              "\n",
              "       Destination_Banglore  Destination_Cochin  Destination_Delhi  \\\n",
              "0                       0.0                 0.0                0.0   \n",
              "1                       1.0                 0.0                0.0   \n",
              "2                       0.0                 1.0                0.0   \n",
              "3                       1.0                 0.0                0.0   \n",
              "4                       0.0                 0.0                0.0   \n",
              "...                     ...                 ...                ...   \n",
              "10678                   1.0                 0.0                0.0   \n",
              "10679                   1.0                 0.0                0.0   \n",
              "10680                   0.0                 0.0                1.0   \n",
              "10681                   0.0                 0.0                0.0   \n",
              "10682                   0.0                 1.0                0.0   \n",
              "\n",
              "       Destination_Hyderabad  Destination_Kolkata  Destination_New Delhi  \n",
              "0                        0.0                  0.0                    1.0  \n",
              "1                        0.0                  0.0                    0.0  \n",
              "2                        0.0                  0.0                    0.0  \n",
              "3                        0.0                  0.0                    0.0  \n",
              "4                        0.0                  0.0                    1.0  \n",
              "...                      ...                  ...                    ...  \n",
              "10678                    0.0                  0.0                    0.0  \n",
              "10679                    0.0                  0.0                    0.0  \n",
              "10680                    0.0                  0.0                    0.0  \n",
              "10681                    0.0                  0.0                    1.0  \n",
              "10682                    0.0                  0.0                    0.0  \n",
              "\n",
              "[10683 rows x 44 columns]"
            ],
            "text/html": [
              "\n",
              "\n",
              "  <div id=\"df-ec3ed21b-9a18-4aaf-ba00-89fe29ba7546\">\n",
              "    <div class=\"colab-df-container\">\n",
              "      <div>\n",
              "<style scoped>\n",
              "    .dataframe tbody tr th:only-of-type {\n",
              "        vertical-align: middle;\n",
              "    }\n",
              "\n",
              "    .dataframe tbody tr th {\n",
              "        vertical-align: top;\n",
              "    }\n",
              "\n",
              "    .dataframe thead th {\n",
              "        text-align: right;\n",
              "    }\n",
              "</style>\n",
              "<table border=\"1\" class=\"dataframe\">\n",
              "  <thead>\n",
              "    <tr style=\"text-align: right;\">\n",
              "      <th></th>\n",
              "      <th>Airline</th>\n",
              "      <th>Source</th>\n",
              "      <th>Destination</th>\n",
              "      <th>Route</th>\n",
              "      <th>Dep_Time</th>\n",
              "      <th>Arrival_Time</th>\n",
              "      <th>Duration</th>\n",
              "      <th>Total_Stops</th>\n",
              "      <th>Additional_Info</th>\n",
              "      <th>Month</th>\n",
              "      <th>Day</th>\n",
              "      <th>WeekOfYear</th>\n",
              "      <th>Next_Day</th>\n",
              "      <th>Route_freq_encoded</th>\n",
              "      <th>Airline_Air Asia</th>\n",
              "      <th>Airline_Air India</th>\n",
              "      <th>Airline_GoAir</th>\n",
              "      <th>Airline_IndiGo</th>\n",
              "      <th>Airline_Jet Airways</th>\n",
              "      <th>Airline_Jet Airways Business</th>\n",
              "      <th>Airline_Multiple carriers</th>\n",
              "      <th>Airline_SpiceJet</th>\n",
              "      <th>Airline_Vistara</th>\n",
              "      <th>Total_Stops_1 stop</th>\n",
              "      <th>Total_Stops_2 stops</th>\n",
              "      <th>Total_Stops_3 stops</th>\n",
              "      <th>Total_Stops_non-stop</th>\n",
              "      <th>Additional_Info_Business class</th>\n",
              "      <th>Additional_Info_In-flight meal not included</th>\n",
              "      <th>Additional_Info_No check-in baggage included</th>\n",
              "      <th>Additional_Info_No info</th>\n",
              "      <th>Additional_Info_Other</th>\n",
              "      <th>Additional_Info_Red-eye flight</th>\n",
              "      <th>Source_Banglore</th>\n",
              "      <th>Source_Chennai</th>\n",
              "      <th>Source_Delhi</th>\n",
              "      <th>Source_Kolkata</th>\n",
              "      <th>Source_Mumbai</th>\n",
              "      <th>Destination_Banglore</th>\n",
              "      <th>Destination_Cochin</th>\n",
              "      <th>Destination_Delhi</th>\n",
              "      <th>Destination_Hyderabad</th>\n",
              "      <th>Destination_Kolkata</th>\n",
              "      <th>Destination_New Delhi</th>\n",
              "    </tr>\n",
              "  </thead>\n",
              "  <tbody>\n",
              "    <tr>\n",
              "      <th>0</th>\n",
              "      <td>IndiGo</td>\n",
              "      <td>Banglore</td>\n",
              "      <td>New Delhi</td>\n",
              "      <td>BLR → DEL</td>\n",
              "      <td>22</td>\n",
              "      <td>1</td>\n",
              "      <td>170</td>\n",
              "      <td>non-stop</td>\n",
              "      <td>Red-eye flight</td>\n",
              "      <td>3</td>\n",
              "      <td>24</td>\n",
              "      <td>12</td>\n",
              "      <td>1.0</td>\n",
              "      <td>0.145278</td>\n",
              "      <td>0.0</td>\n",
              "      <td>0.0</td>\n",
              "      <td>0.0</td>\n",
              "      <td>1.0</td>\n",
              "      <td>0.0</td>\n",
              "      <td>0.0</td>\n",
              "      <td>0.0</td>\n",
              "      <td>0.0</td>\n",
              "      <td>0.0</td>\n",
              "      <td>0.0</td>\n",
              "      <td>0.0</td>\n",
              "      <td>0.0</td>\n",
              "      <td>1.0</td>\n",
              "      <td>0.0</td>\n",
              "      <td>0.0</td>\n",
              "      <td>0.0</td>\n",
              "      <td>0.0</td>\n",
              "      <td>0.0</td>\n",
              "      <td>1.0</td>\n",
              "      <td>1.0</td>\n",
              "      <td>0.0</td>\n",
              "      <td>0.0</td>\n",
              "      <td>0.0</td>\n",
              "      <td>0.0</td>\n",
              "      <td>0.0</td>\n",
              "      <td>0.0</td>\n",
              "      <td>0.0</td>\n",
              "      <td>0.0</td>\n",
              "      <td>0.0</td>\n",
              "      <td>1.0</td>\n",
              "    </tr>\n",
              "    <tr>\n",
              "      <th>1</th>\n",
              "      <td>Air India</td>\n",
              "      <td>Kolkata</td>\n",
              "      <td>Banglore</td>\n",
              "      <td>Others</td>\n",
              "      <td>5</td>\n",
              "      <td>13</td>\n",
              "      <td>445</td>\n",
              "      <td>2 stops</td>\n",
              "      <td>No info</td>\n",
              "      <td>5</td>\n",
              "      <td>1</td>\n",
              "      <td>18</td>\n",
              "      <td>0.0</td>\n",
              "      <td>0.143967</td>\n",
              "      <td>0.0</td>\n",
              "      <td>1.0</td>\n",
              "      <td>0.0</td>\n",
              "      <td>0.0</td>\n",
              "      <td>0.0</td>\n",
              "      <td>0.0</td>\n",
              "      <td>0.0</td>\n",
              "      <td>0.0</td>\n",
              "      <td>0.0</td>\n",
              "      <td>0.0</td>\n",
              "      <td>1.0</td>\n",
              "      <td>0.0</td>\n",
              "      <td>0.0</td>\n",
              "      <td>0.0</td>\n",
              "      <td>0.0</td>\n",
              "      <td>0.0</td>\n",
              "      <td>1.0</td>\n",
              "      <td>0.0</td>\n",
              "      <td>0.0</td>\n",
              "      <td>0.0</td>\n",
              "      <td>0.0</td>\n",
              "      <td>0.0</td>\n",
              "      <td>1.0</td>\n",
              "      <td>0.0</td>\n",
              "      <td>1.0</td>\n",
              "      <td>0.0</td>\n",
              "      <td>0.0</td>\n",
              "      <td>0.0</td>\n",
              "      <td>0.0</td>\n",
              "      <td>0.0</td>\n",
              "    </tr>\n",
              "    <tr>\n",
              "      <th>2</th>\n",
              "      <td>Jet Airways</td>\n",
              "      <td>Delhi</td>\n",
              "      <td>Cochin</td>\n",
              "      <td>Others</td>\n",
              "      <td>9</td>\n",
              "      <td>4</td>\n",
              "      <td>1140</td>\n",
              "      <td>2 stops</td>\n",
              "      <td>No info</td>\n",
              "      <td>6</td>\n",
              "      <td>9</td>\n",
              "      <td>23</td>\n",
              "      <td>1.0</td>\n",
              "      <td>0.143967</td>\n",
              "      <td>0.0</td>\n",
              "      <td>0.0</td>\n",
              "      <td>0.0</td>\n",
              "      <td>0.0</td>\n",
              "      <td>1.0</td>\n",
              "      <td>0.0</td>\n",
              "      <td>0.0</td>\n",
              "      <td>0.0</td>\n",
              "      <td>0.0</td>\n",
              "      <td>0.0</td>\n",
              "      <td>1.0</td>\n",
              "      <td>0.0</td>\n",
              "      <td>0.0</td>\n",
              "      <td>0.0</td>\n",
              "      <td>0.0</td>\n",
              "      <td>0.0</td>\n",
              "      <td>1.0</td>\n",
              "      <td>0.0</td>\n",
              "      <td>0.0</td>\n",
              "      <td>0.0</td>\n",
              "      <td>0.0</td>\n",
              "      <td>1.0</td>\n",
              "      <td>0.0</td>\n",
              "      <td>0.0</td>\n",
              "      <td>0.0</td>\n",
              "      <td>1.0</td>\n",
              "      <td>0.0</td>\n",
              "      <td>0.0</td>\n",
              "      <td>0.0</td>\n",
              "      <td>0.0</td>\n",
              "    </tr>\n",
              "    <tr>\n",
              "      <th>3</th>\n",
              "      <td>IndiGo</td>\n",
              "      <td>Kolkata</td>\n",
              "      <td>Banglore</td>\n",
              "      <td>Others</td>\n",
              "      <td>18</td>\n",
              "      <td>23</td>\n",
              "      <td>325</td>\n",
              "      <td>1 stop</td>\n",
              "      <td>No info</td>\n",
              "      <td>5</td>\n",
              "      <td>12</td>\n",
              "      <td>19</td>\n",
              "      <td>0.0</td>\n",
              "      <td>0.143967</td>\n",
              "      <td>0.0</td>\n",
              "      <td>0.0</td>\n",
              "      <td>0.0</td>\n",
              "      <td>1.0</td>\n",
              "      <td>0.0</td>\n",
              "      <td>0.0</td>\n",
              "      <td>0.0</td>\n",
              "      <td>0.0</td>\n",
              "      <td>0.0</td>\n",
              "      <td>1.0</td>\n",
              "      <td>0.0</td>\n",
              "      <td>0.0</td>\n",
              "      <td>0.0</td>\n",
              "      <td>0.0</td>\n",
              "      <td>0.0</td>\n",
              "      <td>0.0</td>\n",
              "      <td>1.0</td>\n",
              "      <td>0.0</td>\n",
              "      <td>0.0</td>\n",
              "      <td>0.0</td>\n",
              "      <td>0.0</td>\n",
              "      <td>0.0</td>\n",
              "      <td>1.0</td>\n",
              "      <td>0.0</td>\n",
              "      <td>1.0</td>\n",
              "      <td>0.0</td>\n",
              "      <td>0.0</td>\n",
              "      <td>0.0</td>\n",
              "      <td>0.0</td>\n",
              "      <td>0.0</td>\n",
              "    </tr>\n",
              "    <tr>\n",
              "      <th>4</th>\n",
              "      <td>IndiGo</td>\n",
              "      <td>Banglore</td>\n",
              "      <td>New Delhi</td>\n",
              "      <td>Others</td>\n",
              "      <td>16</td>\n",
              "      <td>21</td>\n",
              "      <td>285</td>\n",
              "      <td>1 stop</td>\n",
              "      <td>No info</td>\n",
              "      <td>3</td>\n",
              "      <td>1</td>\n",
              "      <td>9</td>\n",
              "      <td>0.0</td>\n",
              "      <td>0.143967</td>\n",
              "      <td>0.0</td>\n",
              "      <td>0.0</td>\n",
              "      <td>0.0</td>\n",
              "      <td>1.0</td>\n",
              "      <td>0.0</td>\n",
              "      <td>0.0</td>\n",
              "      <td>0.0</td>\n",
              "      <td>0.0</td>\n",
              "      <td>0.0</td>\n",
              "      <td>1.0</td>\n",
              "      <td>0.0</td>\n",
              "      <td>0.0</td>\n",
              "      <td>0.0</td>\n",
              "      <td>0.0</td>\n",
              "      <td>0.0</td>\n",
              "      <td>0.0</td>\n",
              "      <td>1.0</td>\n",
              "      <td>0.0</td>\n",
              "      <td>0.0</td>\n",
              "      <td>1.0</td>\n",
              "      <td>0.0</td>\n",
              "      <td>0.0</td>\n",
              "      <td>0.0</td>\n",
              "      <td>0.0</td>\n",
              "      <td>0.0</td>\n",
              "      <td>0.0</td>\n",
              "      <td>0.0</td>\n",
              "      <td>0.0</td>\n",
              "      <td>0.0</td>\n",
              "      <td>1.0</td>\n",
              "    </tr>\n",
              "    <tr>\n",
              "      <th>...</th>\n",
              "      <td>...</td>\n",
              "      <td>...</td>\n",
              "      <td>...</td>\n",
              "      <td>...</td>\n",
              "      <td>...</td>\n",
              "      <td>...</td>\n",
              "      <td>...</td>\n",
              "      <td>...</td>\n",
              "      <td>...</td>\n",
              "      <td>...</td>\n",
              "      <td>...</td>\n",
              "      <td>...</td>\n",
              "      <td>...</td>\n",
              "      <td>...</td>\n",
              "      <td>...</td>\n",
              "      <td>...</td>\n",
              "      <td>...</td>\n",
              "      <td>...</td>\n",
              "      <td>...</td>\n",
              "      <td>...</td>\n",
              "      <td>...</td>\n",
              "      <td>...</td>\n",
              "      <td>...</td>\n",
              "      <td>...</td>\n",
              "      <td>...</td>\n",
              "      <td>...</td>\n",
              "      <td>...</td>\n",
              "      <td>...</td>\n",
              "      <td>...</td>\n",
              "      <td>...</td>\n",
              "      <td>...</td>\n",
              "      <td>...</td>\n",
              "      <td>...</td>\n",
              "      <td>...</td>\n",
              "      <td>...</td>\n",
              "      <td>...</td>\n",
              "      <td>...</td>\n",
              "      <td>...</td>\n",
              "      <td>...</td>\n",
              "      <td>...</td>\n",
              "      <td>...</td>\n",
              "      <td>...</td>\n",
              "      <td>...</td>\n",
              "      <td>...</td>\n",
              "    </tr>\n",
              "    <tr>\n",
              "      <th>10678</th>\n",
              "      <td>Air Asia</td>\n",
              "      <td>Kolkata</td>\n",
              "      <td>Banglore</td>\n",
              "      <td>CCU → BLR</td>\n",
              "      <td>19</td>\n",
              "      <td>22</td>\n",
              "      <td>150</td>\n",
              "      <td>non-stop</td>\n",
              "      <td>No info</td>\n",
              "      <td>4</td>\n",
              "      <td>9</td>\n",
              "      <td>15</td>\n",
              "      <td>0.0</td>\n",
              "      <td>0.067771</td>\n",
              "      <td>1.0</td>\n",
              "      <td>0.0</td>\n",
              "      <td>0.0</td>\n",
              "      <td>0.0</td>\n",
              "      <td>0.0</td>\n",
              "      <td>0.0</td>\n",
              "      <td>0.0</td>\n",
              "      <td>0.0</td>\n",
              "      <td>0.0</td>\n",
              "      <td>0.0</td>\n",
              "      <td>0.0</td>\n",
              "      <td>0.0</td>\n",
              "      <td>1.0</td>\n",
              "      <td>0.0</td>\n",
              "      <td>0.0</td>\n",
              "      <td>0.0</td>\n",
              "      <td>1.0</td>\n",
              "      <td>0.0</td>\n",
              "      <td>0.0</td>\n",
              "      <td>0.0</td>\n",
              "      <td>0.0</td>\n",
              "      <td>0.0</td>\n",
              "      <td>1.0</td>\n",
              "      <td>0.0</td>\n",
              "      <td>1.0</td>\n",
              "      <td>0.0</td>\n",
              "      <td>0.0</td>\n",
              "      <td>0.0</td>\n",
              "      <td>0.0</td>\n",
              "      <td>0.0</td>\n",
              "    </tr>\n",
              "    <tr>\n",
              "      <th>10679</th>\n",
              "      <td>Air India</td>\n",
              "      <td>Kolkata</td>\n",
              "      <td>Banglore</td>\n",
              "      <td>CCU → BLR</td>\n",
              "      <td>20</td>\n",
              "      <td>23</td>\n",
              "      <td>155</td>\n",
              "      <td>non-stop</td>\n",
              "      <td>No info</td>\n",
              "      <td>4</td>\n",
              "      <td>27</td>\n",
              "      <td>17</td>\n",
              "      <td>0.0</td>\n",
              "      <td>0.067771</td>\n",
              "      <td>0.0</td>\n",
              "      <td>1.0</td>\n",
              "      <td>0.0</td>\n",
              "      <td>0.0</td>\n",
              "      <td>0.0</td>\n",
              "      <td>0.0</td>\n",
              "      <td>0.0</td>\n",
              "      <td>0.0</td>\n",
              "      <td>0.0</td>\n",
              "      <td>0.0</td>\n",
              "      <td>0.0</td>\n",
              "      <td>0.0</td>\n",
              "      <td>1.0</td>\n",
              "      <td>0.0</td>\n",
              "      <td>0.0</td>\n",
              "      <td>0.0</td>\n",
              "      <td>1.0</td>\n",
              "      <td>0.0</td>\n",
              "      <td>0.0</td>\n",
              "      <td>0.0</td>\n",
              "      <td>0.0</td>\n",
              "      <td>0.0</td>\n",
              "      <td>1.0</td>\n",
              "      <td>0.0</td>\n",
              "      <td>1.0</td>\n",
              "      <td>0.0</td>\n",
              "      <td>0.0</td>\n",
              "      <td>0.0</td>\n",
              "      <td>0.0</td>\n",
              "      <td>0.0</td>\n",
              "    </tr>\n",
              "    <tr>\n",
              "      <th>10680</th>\n",
              "      <td>Jet Airways</td>\n",
              "      <td>Banglore</td>\n",
              "      <td>Delhi</td>\n",
              "      <td>BLR → DEL</td>\n",
              "      <td>8</td>\n",
              "      <td>11</td>\n",
              "      <td>180</td>\n",
              "      <td>non-stop</td>\n",
              "      <td>No info</td>\n",
              "      <td>4</td>\n",
              "      <td>27</td>\n",
              "      <td>17</td>\n",
              "      <td>0.0</td>\n",
              "      <td>0.145278</td>\n",
              "      <td>0.0</td>\n",
              "      <td>0.0</td>\n",
              "      <td>0.0</td>\n",
              "      <td>0.0</td>\n",
              "      <td>1.0</td>\n",
              "      <td>0.0</td>\n",
              "      <td>0.0</td>\n",
              "      <td>0.0</td>\n",
              "      <td>0.0</td>\n",
              "      <td>0.0</td>\n",
              "      <td>0.0</td>\n",
              "      <td>0.0</td>\n",
              "      <td>1.0</td>\n",
              "      <td>0.0</td>\n",
              "      <td>0.0</td>\n",
              "      <td>0.0</td>\n",
              "      <td>1.0</td>\n",
              "      <td>0.0</td>\n",
              "      <td>0.0</td>\n",
              "      <td>1.0</td>\n",
              "      <td>0.0</td>\n",
              "      <td>0.0</td>\n",
              "      <td>0.0</td>\n",
              "      <td>0.0</td>\n",
              "      <td>0.0</td>\n",
              "      <td>0.0</td>\n",
              "      <td>1.0</td>\n",
              "      <td>0.0</td>\n",
              "      <td>0.0</td>\n",
              "      <td>0.0</td>\n",
              "    </tr>\n",
              "    <tr>\n",
              "      <th>10681</th>\n",
              "      <td>Vistara</td>\n",
              "      <td>Banglore</td>\n",
              "      <td>New Delhi</td>\n",
              "      <td>BLR → DEL</td>\n",
              "      <td>11</td>\n",
              "      <td>14</td>\n",
              "      <td>160</td>\n",
              "      <td>non-stop</td>\n",
              "      <td>No info</td>\n",
              "      <td>3</td>\n",
              "      <td>1</td>\n",
              "      <td>9</td>\n",
              "      <td>0.0</td>\n",
              "      <td>0.145278</td>\n",
              "      <td>0.0</td>\n",
              "      <td>0.0</td>\n",
              "      <td>0.0</td>\n",
              "      <td>0.0</td>\n",
              "      <td>0.0</td>\n",
              "      <td>0.0</td>\n",
              "      <td>0.0</td>\n",
              "      <td>0.0</td>\n",
              "      <td>1.0</td>\n",
              "      <td>0.0</td>\n",
              "      <td>0.0</td>\n",
              "      <td>0.0</td>\n",
              "      <td>1.0</td>\n",
              "      <td>0.0</td>\n",
              "      <td>0.0</td>\n",
              "      <td>0.0</td>\n",
              "      <td>1.0</td>\n",
              "      <td>0.0</td>\n",
              "      <td>0.0</td>\n",
              "      <td>1.0</td>\n",
              "      <td>0.0</td>\n",
              "      <td>0.0</td>\n",
              "      <td>0.0</td>\n",
              "      <td>0.0</td>\n",
              "      <td>0.0</td>\n",
              "      <td>0.0</td>\n",
              "      <td>0.0</td>\n",
              "      <td>0.0</td>\n",
              "      <td>0.0</td>\n",
              "      <td>1.0</td>\n",
              "    </tr>\n",
              "    <tr>\n",
              "      <th>10682</th>\n",
              "      <td>Air India</td>\n",
              "      <td>Delhi</td>\n",
              "      <td>Cochin</td>\n",
              "      <td>Others</td>\n",
              "      <td>10</td>\n",
              "      <td>19</td>\n",
              "      <td>500</td>\n",
              "      <td>2 stops</td>\n",
              "      <td>No info</td>\n",
              "      <td>5</td>\n",
              "      <td>9</td>\n",
              "      <td>19</td>\n",
              "      <td>0.0</td>\n",
              "      <td>0.143967</td>\n",
              "      <td>0.0</td>\n",
              "      <td>1.0</td>\n",
              "      <td>0.0</td>\n",
              "      <td>0.0</td>\n",
              "      <td>0.0</td>\n",
              "      <td>0.0</td>\n",
              "      <td>0.0</td>\n",
              "      <td>0.0</td>\n",
              "      <td>0.0</td>\n",
              "      <td>0.0</td>\n",
              "      <td>1.0</td>\n",
              "      <td>0.0</td>\n",
              "      <td>0.0</td>\n",
              "      <td>0.0</td>\n",
              "      <td>0.0</td>\n",
              "      <td>0.0</td>\n",
              "      <td>1.0</td>\n",
              "      <td>0.0</td>\n",
              "      <td>0.0</td>\n",
              "      <td>0.0</td>\n",
              "      <td>0.0</td>\n",
              "      <td>1.0</td>\n",
              "      <td>0.0</td>\n",
              "      <td>0.0</td>\n",
              "      <td>0.0</td>\n",
              "      <td>1.0</td>\n",
              "      <td>0.0</td>\n",
              "      <td>0.0</td>\n",
              "      <td>0.0</td>\n",
              "      <td>0.0</td>\n",
              "    </tr>\n",
              "  </tbody>\n",
              "</table>\n",
              "<p>10683 rows × 44 columns</p>\n",
              "</div>\n",
              "      <button class=\"colab-df-convert\" onclick=\"convertToInteractive('df-ec3ed21b-9a18-4aaf-ba00-89fe29ba7546')\"\n",
              "              title=\"Convert this dataframe to an interactive table.\"\n",
              "              style=\"display:none;\">\n",
              "\n",
              "  <svg xmlns=\"http://www.w3.org/2000/svg\" height=\"24px\"viewBox=\"0 0 24 24\"\n",
              "       width=\"24px\">\n",
              "    <path d=\"M0 0h24v24H0V0z\" fill=\"none\"/>\n",
              "    <path d=\"M18.56 5.44l.94 2.06.94-2.06 2.06-.94-2.06-.94-.94-2.06-.94 2.06-2.06.94zm-11 1L8.5 8.5l.94-2.06 2.06-.94-2.06-.94L8.5 2.5l-.94 2.06-2.06.94zm10 10l.94 2.06.94-2.06 2.06-.94-2.06-.94-.94-2.06-.94 2.06-2.06.94z\"/><path d=\"M17.41 7.96l-1.37-1.37c-.4-.4-.92-.59-1.43-.59-.52 0-1.04.2-1.43.59L10.3 9.45l-7.72 7.72c-.78.78-.78 2.05 0 2.83L4 21.41c.39.39.9.59 1.41.59.51 0 1.02-.2 1.41-.59l7.78-7.78 2.81-2.81c.8-.78.8-2.07 0-2.86zM5.41 20L4 18.59l7.72-7.72 1.47 1.35L5.41 20z\"/>\n",
              "  </svg>\n",
              "      </button>\n",
              "\n",
              "\n",
              "\n",
              "    <div id=\"df-83362a09-12f1-4697-9818-a24005343415\">\n",
              "      <button class=\"colab-df-quickchart\" onclick=\"quickchart('df-83362a09-12f1-4697-9818-a24005343415')\"\n",
              "              title=\"Suggest charts.\"\n",
              "              style=\"display:none;\">\n",
              "\n",
              "<svg xmlns=\"http://www.w3.org/2000/svg\" height=\"24px\"viewBox=\"0 0 24 24\"\n",
              "     width=\"24px\">\n",
              "    <g>\n",
              "        <path d=\"M19 3H5c-1.1 0-2 .9-2 2v14c0 1.1.9 2 2 2h14c1.1 0 2-.9 2-2V5c0-1.1-.9-2-2-2zM9 17H7v-7h2v7zm4 0h-2V7h2v10zm4 0h-2v-4h2v4z\"/>\n",
              "    </g>\n",
              "</svg>\n",
              "      </button>\n",
              "    </div>\n",
              "\n",
              "<style>\n",
              "  .colab-df-quickchart {\n",
              "    background-color: #E8F0FE;\n",
              "    border: none;\n",
              "    border-radius: 50%;\n",
              "    cursor: pointer;\n",
              "    display: none;\n",
              "    fill: #1967D2;\n",
              "    height: 32px;\n",
              "    padding: 0 0 0 0;\n",
              "    width: 32px;\n",
              "  }\n",
              "\n",
              "  .colab-df-quickchart:hover {\n",
              "    background-color: #E2EBFA;\n",
              "    box-shadow: 0px 1px 2px rgba(60, 64, 67, 0.3), 0px 1px 3px 1px rgba(60, 64, 67, 0.15);\n",
              "    fill: #174EA6;\n",
              "  }\n",
              "\n",
              "  [theme=dark] .colab-df-quickchart {\n",
              "    background-color: #3B4455;\n",
              "    fill: #D2E3FC;\n",
              "  }\n",
              "\n",
              "  [theme=dark] .colab-df-quickchart:hover {\n",
              "    background-color: #434B5C;\n",
              "    box-shadow: 0px 1px 3px 1px rgba(0, 0, 0, 0.15);\n",
              "    filter: drop-shadow(0px 1px 2px rgba(0, 0, 0, 0.3));\n",
              "    fill: #FFFFFF;\n",
              "  }\n",
              "</style>\n",
              "\n",
              "    <script>\n",
              "      async function quickchart(key) {\n",
              "        const containerElement = document.querySelector('#' + key);\n",
              "        const charts = await google.colab.kernel.invokeFunction(\n",
              "            'suggestCharts', [key], {});\n",
              "      }\n",
              "    </script>\n",
              "\n",
              "      <script>\n",
              "\n",
              "function displayQuickchartButton(domScope) {\n",
              "  let quickchartButtonEl =\n",
              "    domScope.querySelector('#df-83362a09-12f1-4697-9818-a24005343415 button.colab-df-quickchart');\n",
              "  quickchartButtonEl.style.display =\n",
              "    google.colab.kernel.accessAllowed ? 'block' : 'none';\n",
              "}\n",
              "\n",
              "        displayQuickchartButton(document);\n",
              "      </script>\n",
              "      <style>\n",
              "    .colab-df-container {\n",
              "      display:flex;\n",
              "      flex-wrap:wrap;\n",
              "      gap: 12px;\n",
              "    }\n",
              "\n",
              "    .colab-df-convert {\n",
              "      background-color: #E8F0FE;\n",
              "      border: none;\n",
              "      border-radius: 50%;\n",
              "      cursor: pointer;\n",
              "      display: none;\n",
              "      fill: #1967D2;\n",
              "      height: 32px;\n",
              "      padding: 0 0 0 0;\n",
              "      width: 32px;\n",
              "    }\n",
              "\n",
              "    .colab-df-convert:hover {\n",
              "      background-color: #E2EBFA;\n",
              "      box-shadow: 0px 1px 2px rgba(60, 64, 67, 0.3), 0px 1px 3px 1px rgba(60, 64, 67, 0.15);\n",
              "      fill: #174EA6;\n",
              "    }\n",
              "\n",
              "    [theme=dark] .colab-df-convert {\n",
              "      background-color: #3B4455;\n",
              "      fill: #D2E3FC;\n",
              "    }\n",
              "\n",
              "    [theme=dark] .colab-df-convert:hover {\n",
              "      background-color: #434B5C;\n",
              "      box-shadow: 0px 1px 3px 1px rgba(0, 0, 0, 0.15);\n",
              "      filter: drop-shadow(0px 1px 2px rgba(0, 0, 0, 0.3));\n",
              "      fill: #FFFFFF;\n",
              "    }\n",
              "  </style>\n",
              "\n",
              "      <script>\n",
              "        const buttonEl =\n",
              "          document.querySelector('#df-ec3ed21b-9a18-4aaf-ba00-89fe29ba7546 button.colab-df-convert');\n",
              "        buttonEl.style.display =\n",
              "          google.colab.kernel.accessAllowed ? 'block' : 'none';\n",
              "\n",
              "        async function convertToInteractive(key) {\n",
              "          const element = document.querySelector('#df-ec3ed21b-9a18-4aaf-ba00-89fe29ba7546');\n",
              "          const dataTable =\n",
              "            await google.colab.kernel.invokeFunction('convertToInteractive',\n",
              "                                                     [key], {});\n",
              "          if (!dataTable) return;\n",
              "\n",
              "          const docLinkHtml = 'Like what you see? Visit the ' +\n",
              "            '<a target=\"_blank\" href=https://colab.research.google.com/notebooks/data_table.ipynb>data table notebook</a>'\n",
              "            + ' to learn more about interactive tables.';\n",
              "          element.innerHTML = '';\n",
              "          dataTable['output_type'] = 'display_data';\n",
              "          await google.colab.output.renderOutput(dataTable, element);\n",
              "          const docLink = document.createElement('div');\n",
              "          docLink.innerHTML = docLinkHtml;\n",
              "          element.appendChild(docLink);\n",
              "        }\n",
              "      </script>\n",
              "    </div>\n",
              "  </div>\n"
            ]
          },
          "metadata": {},
          "execution_count": 42
        }
      ]
    },
    {
      "cell_type": "code",
      "source": [
        "from sklearn.preprocessing import QuantileTransformer\n",
        "\n",
        "scaler = QuantileTransformer()"
      ],
      "metadata": {
        "id": "CLLOUZAEqqcF"
      },
      "execution_count": 43,
      "outputs": []
    },
    {
      "cell_type": "code",
      "source": [
        "scaler.fit(inputs[numeric_cols])\n",
        "inputs[numeric_cols] = scaler.transform(inputs[numeric_cols])\n",
        "scaler.fit(test_inputs[numeric_cols])\n",
        "test_inputs[numeric_cols] = scaler.transform(test_inputs[numeric_cols])"
      ],
      "metadata": {
        "id": "eQfPWMIrqqZC"
      },
      "execution_count": 44,
      "outputs": []
    },
    {
      "cell_type": "markdown",
      "source": [
        "#Final Dataframe for Model"
      ],
      "metadata": {
        "id": "RgRSKmqLreIM"
      }
    },
    {
      "cell_type": "code",
      "source": [
        "X = inputs[numeric_cols + encoded_cols]\n",
        "X_test = test_inputs[numeric_cols + encoded_cols]"
      ],
      "metadata": {
        "id": "hOViiif4qqWP"
      },
      "execution_count": 45,
      "outputs": []
    },
    {
      "cell_type": "markdown",
      "source": [
        "#Splitting training and test set"
      ],
      "metadata": {
        "id": "SQnh4cQLrlYs"
      }
    },
    {
      "cell_type": "code",
      "source": [
        "from sklearn.model_selection import train_test_split\n",
        "X_train, X_val, y_train, y_val = train_test_split(X,target,test_size=0.2, random_state=42)"
      ],
      "metadata": {
        "id": "loOch_l_qqTc"
      },
      "execution_count": 46,
      "outputs": []
    },
    {
      "cell_type": "markdown",
      "source": [
        "# Baseline Model\n",
        "Creating a basic Linear Regression model to act as a baseline checkpoint from which we can improve upon."
      ],
      "metadata": {
        "id": "lmFDO4EitJYs"
      }
    },
    {
      "cell_type": "code",
      "source": [
        "# A helper function that trains,predict and calculates the RMSE\n",
        "def rmse(model):\n",
        "    model.fit(X_train, y_train)\n",
        "    train_preds=model.predict(X_train)\n",
        "    val_preds=model.predict(X_val)\n",
        "    train_rmse = mean_squared_error(y_train, train_preds, squared=False)\n",
        "    val_rmse = mean_squared_error(y_val, val_preds, squared=False)\n",
        "    return train_rmse,val_rmse"
      ],
      "metadata": {
        "id": "mgPCEYPVqqRa"
      },
      "execution_count": 47,
      "outputs": []
    },
    {
      "cell_type": "code",
      "source": [
        "from sklearn.linear_model import LinearRegression\n",
        "from sklearn.metrics import mean_squared_error\n",
        "\n",
        "linear_regression = LinearRegression()\n",
        "\n",
        "rmse(linear_regression)\n"
      ],
      "metadata": {
        "colab": {
          "base_uri": "https://localhost:8080/"
        },
        "id": "13HmW6RnqqPC",
        "outputId": "9576b43f-1da7-4658-92fc-343230d1cdf5"
      },
      "execution_count": 48,
      "outputs": [
        {
          "output_type": "execute_result",
          "data": {
            "text/plain": [
              "(2513.207965418992, 2522.32877952565)"
            ]
          },
          "metadata": {},
          "execution_count": 48
        }
      ]
    },
    {
      "cell_type": "markdown",
      "source": [
        "# XGBoost Regressor"
      ],
      "metadata": {
        "id": "LN6lCohAthZx"
      }
    },
    {
      "cell_type": "code",
      "source": [
        "from xgboost import XGBRegressor\n",
        "gradient_boosting = XGBRegressor(random_state=42, n_jobs=-1, objective='reg:squarederror')\n",
        "\n",
        "rmse(gradient_boosting)"
      ],
      "metadata": {
        "colab": {
          "base_uri": "https://localhost:8080/"
        },
        "id": "xrhs2lnFqqMI",
        "outputId": "0eb0eadb-883e-4161-8bf7-efe4283e4aa3"
      },
      "execution_count": 49,
      "outputs": [
        {
          "output_type": "execute_result",
          "data": {
            "text/plain": [
              "(750.4638498938829, 1391.9423963511313)"
            ]
          },
          "metadata": {},
          "execution_count": 49
        }
      ]
    },
    {
      "cell_type": "markdown",
      "source": [
        "Things that can be changed around:\n",
        "Include Date_of_Journey in the model\n",
        "Apply  \n",
        "F\n",
        "r\n",
        "e\n",
        "q\n",
        "u\n",
        "e\n",
        "n\n",
        "c\n",
        "y\n",
        "E\n",
        "n\n",
        "c\n",
        "o\n",
        "d\n",
        "n\n",
        "g\n",
        "  to the 'Source' and 'Destination' column.\n",
        "Differently group the Route column.\n",
        "Hyper parameter Tuning. (I actually tried tuning some parameters but the score was worse than the stadard model. Hence using the Standard model here.)\n",
        "Try different Scaling techniques.\n",
        "Try Different Encoding Strategies"
      ],
      "metadata": {
        "id": "OMy0rs45ty5W"
      }
    }
  ]
}